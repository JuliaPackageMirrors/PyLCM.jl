{
 "cells": [
  {
   "cell_type": "code",
   "execution_count": 1,
   "metadata": {
    "collapsed": true
   },
   "outputs": [],
   "source": [
    "using PyCall"
   ]
  },
  {
   "cell_type": "code",
   "execution_count": 2,
   "metadata": {
    "collapsed": false
   },
   "outputs": [
    {
     "data": {
      "text/plain": [
       "PyObject ['/home/rdeits/locomotion/drake/build/lib/python2.7/dist-packages', '/usr/lib/python2.7', '/usr/lib/python2.7/plat-x86_64-linux-gnu', '/usr/lib/python2.7/lib-tk', '/usr/lib/python2.7/lib-old', '/usr/lib/python2.7/lib-dynload', '/usr/local/lib/python2.7/dist-packages', '/usr/lib/python2.7/dist-packages', '/usr/lib/python2.7/dist-packages/PILcompat', '/usr/lib/python2.7/dist-packages/gst-0.10', '/usr/lib/python2.7/dist-packages/gtk-2.0', '/usr/lib/pymodules/python2.7', '/usr/lib/python2.7/dist-packages/ubuntu-sso-client']"
      ]
     },
     "execution_count": 2,
     "metadata": {},
     "output_type": "execute_result"
    }
   ],
   "source": [
    "unshift!(PyVector(pyimport(\"sys\")[\"path\"]), \"/home/rdeits/locomotion/drake/build/lib/python2.7/dist-packages\")"
   ]
  },
  {
   "cell_type": "code",
   "execution_count": 3,
   "metadata": {
    "collapsed": true
   },
   "outputs": [],
   "source": [
    "@pyimport drake"
   ]
  },
  {
   "cell_type": "code",
   "execution_count": 11,
   "metadata": {
    "collapsed": false
   },
   "outputs": [
    {
     "name": "stderr",
     "output_type": "stream",
     "text": [
      "WARNING: replacing module PyLCM\n"
     ]
    }
   ],
   "source": [
    "import PyLCM\n",
    "reload(\"PyLCM\")"
   ]
  },
  {
   "cell_type": "code",
   "execution_count": 12,
   "metadata": {
    "collapsed": false
   },
   "outputs": [
    {
     "data": {
      "text/plain": [
       "0"
      ]
     },
     "execution_count": 12,
     "metadata": {},
     "output_type": "execute_result"
    }
   ],
   "source": [
    "msg = drake.lcmt_foot_flag()\n",
    "msg[:right] = 1\n",
    "msg[:left] = 0"
   ]
  },
  {
   "cell_type": "code",
   "execution_count": 13,
   "metadata": {
    "collapsed": false
   },
   "outputs": [
    {
     "data": {
      "text/plain": [
       "PyObject <LCMSubscription object at 0x7f6e3d3f9d50>"
      ]
     },
     "execution_count": 13,
     "metadata": {},
     "output_type": "execute_result"
    }
   ],
   "source": [
    "function handle_data(channel, msg_data)\n",
    "    msg = drake.lcmt_foot_flag[:decode](msg_data)\n",
    "    println(msg[:right], \" \", msg[:left])\n",
    "end\n",
    "\n",
    "function handle_msg(channel, msg)\n",
    "    println(msg[:right], \" \", msg[:left])\n",
    "end\n",
    "    \n",
    "\n",
    "lc = PyLCM.LCM()\n",
    "PyLCM.subscribe(lc, \"TEST\", handle_msg, drake.lcmt_foot_flag)\n",
    "    "
   ]
  },
  {
   "cell_type": "code",
   "execution_count": 14,
   "metadata": {
    "collapsed": false
   },
   "outputs": [
    {
     "name": "stdout",
     "output_type": "stream",
     "text": [
      "true false\n",
      "true false\n",
      "true "
     ]
    },
    {
     "name": "stderr",
     "output_type": "stream",
     "text": [
      "Error: lcm_handle read: Interrupted system call\n"
     ]
    },
    {
     "ename": "LoadError",
     "evalue": "LoadError: InterruptException:\nwhile loading In[14], in expression starting on line 1",
     "output_type": "error",
     "traceback": [
      "LoadError: InterruptException:\nwhile loading In[14], in expression starting on line 1",
      "",
      " in pycall at /home/rdeits/.julia/v0.4/PyCall/src/PyCall.jl:366",
      " in handle at /home/rdeits/.julia/v0.4/PyLCM/src/PyLCM.jl:27",
      " [inlined code] from In[14]:2",
      " in anonymous at no file:0"
     ]
    }
   ],
   "source": [
    "while true\n",
    "    PyLCM.handle(lc)\n",
    "end"
   ]
  },
  {
   "cell_type": "code",
   "execution_count": 16,
   "metadata": {
    "collapsed": false
   },
   "outputs": [
    {
     "name": "stdout",
     "output_type": "stream",
     "text": [
      "\n",
      "msg[:left] = false\n",
      "msg[:right] = true\n",
      "msg[:left] = false\n",
      "msg[:right] = true\n",
      "msg[:left] = false\n",
      "msg[:right] = true\n",
      "msg[:left] = false\n"
     ]
    },
    {
     "data": {
      "text/plain": [
       "PyObject <class 'drake.lcmt_foot_flag.lcmt_foot_flag'>"
      ]
     },
     "execution_count": 16,
     "metadata": {},
     "output_type": "execute_result"
    }
   ],
   "source": [
    "drake.lcmt_foot_flag"
   ]
  },
  {
   "cell_type": "code",
   "execution_count": null,
   "metadata": {
    "collapsed": true
   },
   "outputs": [],
   "source": []
  }
 ],
 "metadata": {
  "kernelspec": {
   "display_name": "Julia 0.4.2",
   "language": "julia",
   "name": "julia-0.4"
  },
  "language_info": {
   "file_extension": ".jl",
   "mimetype": "application/julia",
   "name": "julia",
   "version": "0.4.2"
  }
 },
 "nbformat": 4,
 "nbformat_minor": 0
}
